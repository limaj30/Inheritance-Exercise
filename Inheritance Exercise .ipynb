{
 "cells": [
  {
   "cell_type": "markdown",
   "id": "6cd99c7f",
   "metadata": {},
   "source": [
    "You are given two classes, Person and Student, where Person is the base class and Student is the derived class. Completed code for Person and a declaration for Student are provided for you in the editor. Observe that Student inherits all the properties of Person.\n",
    "\n",
    "Complete the Student class by writing the following:\n",
    "\n",
    "A Student class constructor, which has 4 parameters:\n",
    "\n",
    "A string, firstName\n",
    "A string, lastName\n",
    "An integer, id An integer array (or vector) of test scores, scores\n",
    "A char calculate() method that calculates a Student object's average and returns the grade character representative of their calculated average:\n",
    "\n",
    "A | 90-100\n",
    "B | 80-89\n",
    "C | 70-79\n",
    "D | 60-69\n",
    "F | <60"
   ]
  },
  {
   "cell_type": "code",
   "execution_count": 7,
   "id": "0fd30118",
   "metadata": {},
   "outputs": [
    {
     "name": "stdout",
     "output_type": "stream",
     "text": [
      "Grade: B\n"
     ]
    }
   ],
   "source": [
    "class Person:\n",
    "    firstname = \"\"\n",
    "    lastname = \"\"\n",
    "class Student(Person):\n",
    "    def __init__ (self,firstname,lastname,id_number, scores):\n",
    "        self.firstname = firstname\n",
    "        self.lastname = lastname\n",
    "        self.id_number = id_number\n",
    "        self.scores = scores\n",
    "    def calculate(self):\n",
    "        average = sum(self.scores)/ len(self.scores)\n",
    "        if 90 <= average <= 100:\n",
    "            return 'A'\n",
    "        elif 80 <= average < 90:\n",
    "            return 'B'\n",
    "        elif 70 <= average < 80:\n",
    "            return 'C'\n",
    "        elif 60 <= average < 70:\n",
    "            return 'D'\n",
    "        else: \n",
    "            return 'F'\n",
    "\n",
    "student = Student(\"Maddy\", \"Rabi\", 657741, [94, 95, 88, 70, 72])\n",
    "print(\"Grade:\", student.calculate())"
   ]
  }
 ],
 "metadata": {
  "kernelspec": {
   "display_name": "Python 3 (ipykernel)",
   "language": "python",
   "name": "python3"
  },
  "language_info": {
   "codemirror_mode": {
    "name": "ipython",
    "version": 3
   },
   "file_extension": ".py",
   "mimetype": "text/x-python",
   "name": "python",
   "nbconvert_exporter": "python",
   "pygments_lexer": "ipython3",
   "version": "3.11.4"
  }
 },
 "nbformat": 4,
 "nbformat_minor": 5
}
